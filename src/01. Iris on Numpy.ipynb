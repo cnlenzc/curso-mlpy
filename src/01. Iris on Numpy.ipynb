{
 "cells": [
  {
   "cell_type": "code",
   "execution_count": 1,
   "metadata": {
    "collapsed": false
   },
   "outputs": [
    {
     "data": {
      "text/plain": [
       "'1.12.0'"
      ]
     },
     "execution_count": 1,
     "metadata": {},
     "output_type": "execute_result"
    }
   ],
   "source": [
    "# References\n",
    "# https://docs.scipy.org/doc/numpy-dev/user/quickstart.html\n",
    "\n",
    "# Loading NumPy's library\n",
    "import numpy as np\n",
    "\n",
    "# Showing NumPy's version\n",
    "np.__version__"
   ]
  },
  {
   "cell_type": "code",
   "execution_count": 2,
   "metadata": {
    "collapsed": false
   },
   "outputs": [
    {
     "data": {
      "text/plain": [
       "array([['5.1', '3.5', '1.4', '0.2', 'Iris-setosa'],\n",
       "       ['4.9', '3.0', '1.4', '0.2', 'Iris-setosa'],\n",
       "       ['4.7', '3.2', '1.3', '0.2', 'Iris-setosa'],\n",
       "       ['4.6', '3.1', '1.5', '0.2', 'Iris-setosa'],\n",
       "       ['5.0', '3.6', '1.4', '0.2', 'Iris-setosa'],\n",
       "       ['5.4', '3.9', '1.7', '0.4', 'Iris-setosa'],\n",
       "       ['4.6', '3.4', '1.4', '0.3', 'Iris-setosa'],\n",
       "       ['5.0', '3.4', '1.5', '0.2', 'Iris-setosa'],\n",
       "       ['4.4', '2.9', '1.4', '0.2', 'Iris-setosa'],\n",
       "       ['4.9', '3.1', '1.5', '0.1', 'Iris-setosa'],\n",
       "       ['5.4', '3.7', '1.5', '0.2', 'Iris-setosa'],\n",
       "       ['4.8', '3.4', '1.6', '0.2', 'Iris-setosa'],\n",
       "       ['4.8', '3.0', '1.4', '0.1', 'Iris-setosa'],\n",
       "       ['4.3', '3.0', '1.1', '0.1', 'Iris-setosa'],\n",
       "       ['5.8', '4.0', '1.2', '0.2', 'Iris-setosa'],\n",
       "       ['5.7', '4.4', '1.5', '0.4', 'Iris-setosa'],\n",
       "       ['5.4', '3.9', '1.3', '0.4', 'Iris-setosa'],\n",
       "       ['5.1', '3.5', '1.4', '0.3', 'Iris-setosa'],\n",
       "       ['5.7', '3.8', '1.7', '0.3', 'Iris-setosa'],\n",
       "       ['5.1', '3.8', '1.5', '0.3', 'Iris-setosa'],\n",
       "       ['5.4', '3.4', '1.7', '0.2', 'Iris-setosa'],\n",
       "       ['5.1', '3.7', '1.5', '0.4', 'Iris-setosa'],\n",
       "       ['4.6', '3.6', '1.0', '0.2', 'Iris-setosa'],\n",
       "       ['5.1', '3.3', '1.7', '0.5', 'Iris-setosa'],\n",
       "       ['4.8', '3.4', '1.9', '0.2', 'Iris-setosa'],\n",
       "       ['5.0', '3.0', '1.6', '0.2', 'Iris-setosa'],\n",
       "       ['5.0', '3.4', '1.6', '0.4', 'Iris-setosa'],\n",
       "       ['5.2', '3.5', '1.5', '0.2', 'Iris-setosa'],\n",
       "       ['5.2', '3.4', '1.4', '0.2', 'Iris-setosa'],\n",
       "       ['4.7', '3.2', '1.6', '0.2', 'Iris-setosa'],\n",
       "       ['4.8', '3.1', '1.6', '0.2', 'Iris-setosa'],\n",
       "       ['5.4', '3.4', '1.5', '0.4', 'Iris-setosa'],\n",
       "       ['5.2', '4.1', '1.5', '0.1', 'Iris-setosa'],\n",
       "       ['5.5', '4.2', '1.4', '0.2', 'Iris-setosa'],\n",
       "       ['4.9', '3.1', '1.5', '0.1', 'Iris-setosa'],\n",
       "       ['5.0', '3.2', '1.2', '0.2', 'Iris-setosa'],\n",
       "       ['5.5', '3.5', '1.3', '0.2', 'Iris-setosa'],\n",
       "       ['4.9', '3.1', '1.5', '0.1', 'Iris-setosa'],\n",
       "       ['4.4', '3.0', '1.3', '0.2', 'Iris-setosa'],\n",
       "       ['5.1', '3.4', '1.5', '0.2', 'Iris-setosa'],\n",
       "       ['5.0', '3.5', '1.3', '0.3', 'Iris-setosa'],\n",
       "       ['4.5', '2.3', '1.3', '0.3', 'Iris-setosa'],\n",
       "       ['4.4', '3.2', '1.3', '0.2', 'Iris-setosa'],\n",
       "       ['5.0', '3.5', '1.6', '0.6', 'Iris-setosa'],\n",
       "       ['5.1', '3.8', '1.9', '0.4', 'Iris-setosa'],\n",
       "       ['4.8', '3.0', '1.4', '0.3', 'Iris-setosa'],\n",
       "       ['5.1', '3.8', '1.6', '0.2', 'Iris-setosa'],\n",
       "       ['4.6', '3.2', '1.4', '0.2', 'Iris-setosa'],\n",
       "       ['5.3', '3.7', '1.5', '0.2', 'Iris-setosa'],\n",
       "       ['5.0', '3.3', '1.4', '0.2', 'Iris-setosa'],\n",
       "       ['7.0', '3.2', '4.7', '1.4', 'Iris-versicolor'],\n",
       "       ['6.4', '3.2', '4.5', '1.5', 'Iris-versicolor'],\n",
       "       ['6.9', '3.1', '4.9', '1.5', 'Iris-versicolor'],\n",
       "       ['5.5', '2.3', '4.0', '1.3', 'Iris-versicolor'],\n",
       "       ['6.5', '2.8', '4.6', '1.5', 'Iris-versicolor'],\n",
       "       ['5.7', '2.8', '4.5', '1.3', 'Iris-versicolor'],\n",
       "       ['6.3', '3.3', '4.7', '1.6', 'Iris-versicolor'],\n",
       "       ['4.9', '2.4', '3.3', '1.0', 'Iris-versicolor'],\n",
       "       ['6.6', '2.9', '4.6', '1.3', 'Iris-versicolor'],\n",
       "       ['5.2', '2.7', '3.9', '1.4', 'Iris-versicolor'],\n",
       "       ['5.0', '2.0', '3.5', '1.0', 'Iris-versicolor'],\n",
       "       ['5.9', '3.0', '4.2', '1.5', 'Iris-versicolor'],\n",
       "       ['6.0', '2.2', '4.0', '1.0', 'Iris-versicolor'],\n",
       "       ['6.1', '2.9', '4.7', '1.4', 'Iris-versicolor'],\n",
       "       ['5.6', '2.9', '3.6', '1.3', 'Iris-versicolor'],\n",
       "       ['6.7', '3.1', '4.4', '1.4', 'Iris-versicolor'],\n",
       "       ['5.6', '3.0', '4.5', '1.5', 'Iris-versicolor'],\n",
       "       ['5.8', '2.7', '4.1', '1.0', 'Iris-versicolor'],\n",
       "       ['6.2', '2.2', '4.5', '1.5', 'Iris-versicolor'],\n",
       "       ['5.6', '2.5', '3.9', '1.1', 'Iris-versicolor'],\n",
       "       ['5.9', '3.2', '4.8', '1.8', 'Iris-versicolor'],\n",
       "       ['6.1', '2.8', '4.0', '1.3', 'Iris-versicolor'],\n",
       "       ['6.3', '2.5', '4.9', '1.5', 'Iris-versicolor'],\n",
       "       ['6.1', '2.8', '4.7', '1.2', 'Iris-versicolor'],\n",
       "       ['6.4', '2.9', '4.3', '1.3', 'Iris-versicolor'],\n",
       "       ['6.6', '3.0', '4.4', '1.4', 'Iris-versicolor'],\n",
       "       ['6.8', '2.8', '4.8', '1.4', 'Iris-versicolor'],\n",
       "       ['6.7', '3.0', '5.0', '1.7', 'Iris-versicolor'],\n",
       "       ['6.0', '2.9', '4.5', '1.5', 'Iris-versicolor'],\n",
       "       ['5.7', '2.6', '3.5', '1.0', 'Iris-versicolor'],\n",
       "       ['5.5', '2.4', '3.8', '1.1', 'Iris-versicolor'],\n",
       "       ['5.5', '2.4', '3.7', '1.0', 'Iris-versicolor'],\n",
       "       ['5.8', '2.7', '3.9', '1.2', 'Iris-versicolor'],\n",
       "       ['6.0', '2.7', '5.1', '1.6', 'Iris-versicolor'],\n",
       "       ['5.4', '3.0', '4.5', '1.5', 'Iris-versicolor'],\n",
       "       ['6.0', '3.4', '4.5', '1.6', 'Iris-versicolor'],\n",
       "       ['6.7', '3.1', '4.7', '1.5', 'Iris-versicolor'],\n",
       "       ['6.3', '2.3', '4.4', '1.3', 'Iris-versicolor'],\n",
       "       ['5.6', '3.0', '4.1', '1.3', 'Iris-versicolor'],\n",
       "       ['5.5', '2.5', '4.0', '1.3', 'Iris-versicolor'],\n",
       "       ['5.5', '2.6', '4.4', '1.2', 'Iris-versicolor'],\n",
       "       ['6.1', '3.0', '4.6', '1.4', 'Iris-versicolor'],\n",
       "       ['5.8', '2.6', '4.0', '1.2', 'Iris-versicolor'],\n",
       "       ['5.0', '2.3', '3.3', '1.0', 'Iris-versicolor'],\n",
       "       ['5.6', '2.7', '4.2', '1.3', 'Iris-versicolor'],\n",
       "       ['5.7', '3.0', '4.2', '1.2', 'Iris-versicolor'],\n",
       "       ['5.7', '2.9', '4.2', '1.3', 'Iris-versicolor'],\n",
       "       ['6.2', '2.9', '4.3', '1.3', 'Iris-versicolor'],\n",
       "       ['5.1', '2.5', '3.0', '1.1', 'Iris-versicolor'],\n",
       "       ['5.7', '2.8', '4.1', '1.3', 'Iris-versicolor'],\n",
       "       ['6.3', '3.3', '6.0', '2.5', 'Iris-virginica'],\n",
       "       ['5.8', '2.7', '5.1', '1.9', 'Iris-virginica'],\n",
       "       ['7.1', '3.0', '5.9', '2.1', 'Iris-virginica'],\n",
       "       ['6.3', '2.9', '5.6', '1.8', 'Iris-virginica'],\n",
       "       ['6.5', '3.0', '5.8', '2.2', 'Iris-virginica'],\n",
       "       ['7.6', '3.0', '6.6', '2.1', 'Iris-virginica'],\n",
       "       ['4.9', '2.5', '4.5', '1.7', 'Iris-virginica'],\n",
       "       ['7.3', '2.9', '6.3', '1.8', 'Iris-virginica'],\n",
       "       ['6.7', '2.5', '5.8', '1.8', 'Iris-virginica'],\n",
       "       ['7.2', '3.6', '6.1', '2.5', 'Iris-virginica'],\n",
       "       ['6.5', '3.2', '5.1', '2.0', 'Iris-virginica'],\n",
       "       ['6.4', '2.7', '5.3', '1.9', 'Iris-virginica'],\n",
       "       ['6.8', '3.0', '5.5', '2.1', 'Iris-virginica'],\n",
       "       ['5.7', '2.5', '5.0', '2.0', 'Iris-virginica'],\n",
       "       ['5.8', '2.8', '5.1', '2.4', 'Iris-virginica'],\n",
       "       ['6.4', '3.2', '5.3', '2.3', 'Iris-virginica'],\n",
       "       ['6.5', '3.0', '5.5', '1.8', 'Iris-virginica'],\n",
       "       ['7.7', '3.8', '6.7', '2.2', 'Iris-virginica'],\n",
       "       ['7.7', '2.6', '6.9', '2.3', 'Iris-virginica'],\n",
       "       ['6.0', '2.2', '5.0', '1.5', 'Iris-virginica'],\n",
       "       ['6.9', '3.2', '5.7', '2.3', 'Iris-virginica'],\n",
       "       ['5.6', '2.8', '4.9', '2.0', 'Iris-virginica'],\n",
       "       ['7.7', '2.8', '6.7', '2.0', 'Iris-virginica'],\n",
       "       ['6.3', '2.7', '4.9', '1.8', 'Iris-virginica'],\n",
       "       ['6.7', '3.3', '5.7', '2.1', 'Iris-virginica'],\n",
       "       ['7.2', '3.2', '6.0', '1.8', 'Iris-virginica'],\n",
       "       ['6.2', '2.8', '4.8', '1.8', 'Iris-virginica'],\n",
       "       ['6.1', '3.0', '4.9', '1.8', 'Iris-virginica'],\n",
       "       ['6.4', '2.8', '5.6', '2.1', 'Iris-virginica'],\n",
       "       ['7.2', '3.0', '5.8', '1.6', 'Iris-virginica'],\n",
       "       ['7.4', '2.8', '6.1', '1.9', 'Iris-virginica'],\n",
       "       ['7.9', '3.8', '6.4', '2.0', 'Iris-virginica'],\n",
       "       ['6.4', '2.8', '5.6', '2.2', 'Iris-virginica'],\n",
       "       ['6.3', '2.8', '5.1', '1.5', 'Iris-virginica'],\n",
       "       ['6.1', '2.6', '5.6', '1.4', 'Iris-virginica'],\n",
       "       ['7.7', '3.0', '6.1', '2.3', 'Iris-virginica'],\n",
       "       ['6.3', '3.4', '5.6', '2.4', 'Iris-virginica'],\n",
       "       ['6.4', '3.1', '5.5', '1.8', 'Iris-virginica'],\n",
       "       ['6.0', '3.0', '4.8', '1.8', 'Iris-virginica'],\n",
       "       ['6.9', '3.1', '5.4', '2.1', 'Iris-virginica'],\n",
       "       ['6.7', '3.1', '5.6', '2.4', 'Iris-virginica'],\n",
       "       ['6.9', '3.1', '5.1', '2.3', 'Iris-virginica'],\n",
       "       ['5.8', '2.7', '5.1', '1.9', 'Iris-virginica'],\n",
       "       ['6.8', '3.2', '5.9', '2.3', 'Iris-virginica'],\n",
       "       ['6.7', '3.3', '5.7', '2.5', 'Iris-virginica'],\n",
       "       ['6.7', '3.0', '5.2', '2.3', 'Iris-virginica'],\n",
       "       ['6.3', '2.5', '5.0', '1.9', 'Iris-virginica'],\n",
       "       ['6.5', '3.0', '5.2', '2.0', 'Iris-virginica'],\n",
       "       ['6.2', '3.4', '5.4', '2.3', 'Iris-virginica'],\n",
       "       ['5.9', '3.0', '5.1', '1.8', 'Iris-virginica']], \n",
       "      dtype='|S15')"
      ]
     },
     "execution_count": 2,
     "metadata": {},
     "output_type": "execute_result"
    }
   ],
   "source": [
    "# Reading iris.csv\n",
    "import csv\n",
    "\n",
    "def load_iris():\n",
    "    iris_file = open(\"iris.data\", \"rb\")\n",
    "    csv_file_handler = csv.reader(iris_file)\n",
    "\n",
    "    headers = csv_file_handler.next()\n",
    "    data = []\n",
    "    for row in csv_file_handler:\n",
    "        data.append(row)\n",
    "    \n",
    "    return(data, headers)\n",
    "\n",
    "# Change data to NumPy's array\n",
    "data, headers = load_iris()\n",
    "data = np.array(data)\n",
    "\n",
    "# Show it\n",
    "data"
   ]
  },
  {
   "cell_type": "code",
   "execution_count": 3,
   "metadata": {
    "collapsed": false
   },
   "outputs": [
    {
     "data": {
      "text/plain": [
       "['SepalLengthCm', 'SepalWidthCm', 'PetalLengthCm', 'PetalWidthCm', 'Species']"
      ]
     },
     "execution_count": 3,
     "metadata": {},
     "output_type": "execute_result"
    }
   ],
   "source": [
    "# Printing headers\n",
    "headers"
   ]
  },
  {
   "cell_type": "code",
   "execution_count": 4,
   "metadata": {
    "collapsed": false
   },
   "outputs": [
    {
     "data": {
      "text/plain": [
       "2"
      ]
     },
     "execution_count": 4,
     "metadata": {},
     "output_type": "execute_result"
    }
   ],
   "source": [
    "# Getting the number of dimensions of data\n",
    "data.ndim"
   ]
  },
  {
   "cell_type": "code",
   "execution_count": 5,
   "metadata": {
    "collapsed": false
   },
   "outputs": [
    {
     "data": {
      "text/plain": [
       "(150, 5)"
      ]
     },
     "execution_count": 5,
     "metadata": {},
     "output_type": "execute_result"
    }
   ],
   "source": [
    "# Getting the data shape\n",
    "data.shape"
   ]
  },
  {
   "cell_type": "code",
   "execution_count": 6,
   "metadata": {
    "collapsed": false
   },
   "outputs": [
    {
     "name": "stdout",
     "output_type": "stream",
     "text": [
      "['5.1' '3.5' '1.4' '0.2' 'Iris-setosa']\n"
     ]
    }
   ],
   "source": [
    "# Selecting first row (index begin at 0)\n",
    "print(data[0,])"
   ]
  },
  {
   "cell_type": "code",
   "execution_count": 7,
   "metadata": {
    "collapsed": false
   },
   "outputs": [
    {
     "name": "stdout",
     "output_type": "stream",
     "text": [
      "['5.9' '3.0' '5.1' '1.8' 'Iris-virginica']\n"
     ]
    }
   ],
   "source": [
    "# Selecting last row\n",
    "print(data[-1,])"
   ]
  },
  {
   "cell_type": "code",
   "execution_count": 8,
   "metadata": {
    "collapsed": false
   },
   "outputs": [
    {
     "name": "stdout",
     "output_type": "stream",
     "text": [
      "[['5.1' '3.5' '1.4' '0.2' 'Iris-setosa']\n",
      " ['4.9' '3.0' '1.4' '0.2' 'Iris-setosa']\n",
      " ['4.7' '3.2' '1.3' '0.2' 'Iris-setosa']\n",
      " ['4.6' '3.1' '1.5' '0.2' 'Iris-setosa']\n",
      " ['5.0' '3.6' '1.4' '0.2' 'Iris-setosa']]\n"
     ]
    }
   ],
   "source": [
    "# Selecting five first rows\n",
    "print(data[0:5,])"
   ]
  },
  {
   "cell_type": "code",
   "execution_count": 9,
   "metadata": {
    "collapsed": false
   },
   "outputs": [
    {
     "data": {
      "text/plain": [
       "array(['5.1', '4.9', '4.7', '4.6', '5.0', '5.4', '4.6', '5.0', '4.4',\n",
       "       '4.9', '5.4', '4.8', '4.8', '4.3', '5.8', '5.7', '5.4', '5.1',\n",
       "       '5.7', '5.1', '5.4', '5.1', '4.6', '5.1', '4.8', '5.0', '5.0',\n",
       "       '5.2', '5.2', '4.7', '4.8', '5.4', '5.2', '5.5', '4.9', '5.0',\n",
       "       '5.5', '4.9', '4.4', '5.1', '5.0', '4.5', '4.4', '5.0', '5.1',\n",
       "       '4.8', '5.1', '4.6', '5.3', '5.0', '7.0', '6.4', '6.9', '5.5',\n",
       "       '6.5', '5.7', '6.3', '4.9', '6.6', '5.2', '5.0', '5.9', '6.0',\n",
       "       '6.1', '5.6', '6.7', '5.6', '5.8', '6.2', '5.6', '5.9', '6.1',\n",
       "       '6.3', '6.1', '6.4', '6.6', '6.8', '6.7', '6.0', '5.7', '5.5',\n",
       "       '5.5', '5.8', '6.0', '5.4', '6.0', '6.7', '6.3', '5.6', '5.5',\n",
       "       '5.5', '6.1', '5.8', '5.0', '5.6', '5.7', '5.7', '6.2', '5.1',\n",
       "       '5.7', '6.3', '5.8', '7.1', '6.3', '6.5', '7.6', '4.9', '7.3',\n",
       "       '6.7', '7.2', '6.5', '6.4', '6.8', '5.7', '5.8', '6.4', '6.5',\n",
       "       '7.7', '7.7', '6.0', '6.9', '5.6', '7.7', '6.3', '6.7', '7.2',\n",
       "       '6.2', '6.1', '6.4', '7.2', '7.4', '7.9', '6.4', '6.3', '6.1',\n",
       "       '7.7', '6.3', '6.4', '6.0', '6.9', '6.7', '6.9', '5.8', '6.8',\n",
       "       '6.7', '6.7', '6.3', '6.5', '6.2', '5.9'], \n",
       "      dtype='|S15')"
      ]
     },
     "execution_count": 9,
     "metadata": {},
     "output_type": "execute_result"
    }
   ],
   "source": [
    "# Selecting the first column\n",
    "data[:,0]"
   ]
  },
  {
   "cell_type": "code",
   "execution_count": 10,
   "metadata": {
    "collapsed": false
   },
   "outputs": [
    {
     "data": {
      "text/plain": [
       "array([['5.4', '3.9', '1.7', '0.4'],\n",
       "       ['4.6', '3.4', '1.4', '0.3'],\n",
       "       ['5.0', '3.4', '1.5', '0.2'],\n",
       "       ['4.4', '2.9', '1.4', '0.2'],\n",
       "       ['4.9', '3.1', '1.5', '0.1']], \n",
       "      dtype='|S15')"
      ]
     },
     "execution_count": 10,
     "metadata": {},
     "output_type": "execute_result"
    }
   ],
   "source": [
    "# Selecting 5 rows (from 5 until 10) of the first four columns\n",
    "data[5:10,0:4]"
   ]
  },
  {
   "cell_type": "code",
   "execution_count": 11,
   "metadata": {
    "collapsed": false
   },
   "outputs": [
    {
     "data": {
      "text/plain": [
       "array([['4.9', '3.0', '1.4', '0.2', 'Iris-setosa'],\n",
       "       ['4.7', '3.2', '1.3', '0.2', 'Iris-setosa'],\n",
       "       ['4.6', '3.1', '1.5', '0.2', 'Iris-setosa'],\n",
       "       ['5.4', '3.9', '1.7', '0.4', 'Iris-setosa'],\n",
       "       ['5.0', '3.4', '1.5', '0.2', 'Iris-setosa']], \n",
       "      dtype='|S15')"
      ]
     },
     "execution_count": 11,
     "metadata": {},
     "output_type": "execute_result"
    }
   ],
   "source": [
    "# Selecting arbitrary rows\n",
    "data[[1, 2, 3, 5, 7],:]"
   ]
  },
  {
   "cell_type": "code",
   "execution_count": 12,
   "metadata": {
    "collapsed": false
   },
   "outputs": [
    {
     "data": {
      "text/plain": [
       "array([ 5.1,  4.9,  4.7,  4.6,  5. ,  5.4,  4.6,  5. ,  4.4,  4.9,  5.4,\n",
       "        4.8,  4.8,  4.3,  5.8,  5.7,  5.4,  5.1,  5.7,  5.1,  5.4,  5.1,\n",
       "        4.6,  5.1,  4.8,  5. ,  5. ,  5.2,  5.2,  4.7,  4.8,  5.4,  5.2,\n",
       "        5.5,  4.9,  5. ,  5.5,  4.9,  4.4,  5.1,  5. ,  4.5,  4.4,  5. ,\n",
       "        5.1,  4.8,  5.1,  4.6,  5.3,  5. ,  7. ,  6.4,  6.9,  5.5,  6.5,\n",
       "        5.7,  6.3,  4.9,  6.6,  5.2,  5. ,  5.9,  6. ,  6.1,  5.6,  6.7,\n",
       "        5.6,  5.8,  6.2,  5.6,  5.9,  6.1,  6.3,  6.1,  6.4,  6.6,  6.8,\n",
       "        6.7,  6. ,  5.7,  5.5,  5.5,  5.8,  6. ,  5.4,  6. ,  6.7,  6.3,\n",
       "        5.6,  5.5,  5.5,  6.1,  5.8,  5. ,  5.6,  5.7,  5.7,  6.2,  5.1,\n",
       "        5.7,  6.3,  5.8,  7.1,  6.3,  6.5,  7.6,  4.9,  7.3,  6.7,  7.2,\n",
       "        6.5,  6.4,  6.8,  5.7,  5.8,  6.4,  6.5,  7.7,  7.7,  6. ,  6.9,\n",
       "        5.6,  7.7,  6.3,  6.7,  7.2,  6.2,  6.1,  6.4,  7.2,  7.4,  7.9,\n",
       "        6.4,  6.3,  6.1,  7.7,  6.3,  6.4,  6. ,  6.9,  6.7,  6.9,  5.8,\n",
       "        6.8,  6.7,  6.7,  6.3,  6.5,  6.2,  5.9])"
      ]
     },
     "execution_count": 12,
     "metadata": {},
     "output_type": "execute_result"
    }
   ],
   "source": [
    "# Selecting the first column, as float\n",
    "data[:,0].astype(np.float)"
   ]
  },
  {
   "cell_type": "code",
   "execution_count": 13,
   "metadata": {
    "collapsed": false
   },
   "outputs": [
    {
     "data": {
      "text/plain": [
       "array([[ 5.1,  3.5,  1.4,  0.2],\n",
       "       [ 4.9,  3. ,  1.4,  0.2],\n",
       "       [ 4.7,  3.2,  1.3,  0.2],\n",
       "       [ 4.6,  3.1,  1.5,  0.2],\n",
       "       [ 5. ,  3.6,  1.4,  0.2],\n",
       "       [ 5.4,  3.9,  1.7,  0.4],\n",
       "       [ 4.6,  3.4,  1.4,  0.3],\n",
       "       [ 5. ,  3.4,  1.5,  0.2],\n",
       "       [ 4.4,  2.9,  1.4,  0.2],\n",
       "       [ 4.9,  3.1,  1.5,  0.1]])"
      ]
     },
     "execution_count": 13,
     "metadata": {},
     "output_type": "execute_result"
    }
   ],
   "source": [
    "# Storing the last column as the array target\n",
    "target = data[:,4]\n",
    "\n",
    "# Storing the first 4 columns as the array input already as float\n",
    "input = data[:,0:4].astype(np.float)\n",
    "\n",
    "# Selecting the first 10 rows, for example\n",
    "input[0:10,:]"
   ]
  },
  {
   "cell_type": "code",
   "execution_count": 14,
   "metadata": {
    "collapsed": false
   },
   "outputs": [
    {
     "data": {
      "text/plain": [
       "array(['Iris-setosa', 'Iris-setosa', 'Iris-setosa', 'Iris-setosa',\n",
       "       'Iris-setosa', 'Iris-setosa', 'Iris-setosa', 'Iris-setosa',\n",
       "       'Iris-setosa', 'Iris-setosa'], \n",
       "      dtype='|S15')"
      ]
     },
     "execution_count": 14,
     "metadata": {},
     "output_type": "execute_result"
    }
   ],
   "source": [
    "# Selecting the first 10 rows, for example\n",
    "target[0:10]"
   ]
  },
  {
   "cell_type": "code",
   "execution_count": 15,
   "metadata": {
    "collapsed": false
   },
   "outputs": [
    {
     "data": {
      "text/plain": [
       "array([False, False, False, False, False, False, False, False, False,\n",
       "       False, False, False, False, False, False, False, False, False,\n",
       "       False, False, False, False, False, False, False, False, False,\n",
       "       False, False, False, False, False, False, False, False, False,\n",
       "       False, False, False, False, False, False, False, False, False,\n",
       "       False, False, False, False, False,  True, False,  True, False,\n",
       "       False, False, False, False,  True, False, False, False, False,\n",
       "       False, False,  True, False, False, False, False, False, False,\n",
       "       False, False, False,  True,  True,  True, False, False, False,\n",
       "       False, False, False, False, False,  True, False, False, False,\n",
       "       False, False, False, False, False, False, False, False, False,\n",
       "       False, False, False,  True, False, False,  True, False,  True,\n",
       "        True,  True, False, False,  True, False, False, False, False,\n",
       "        True,  True, False,  True, False,  True, False,  True,  True,\n",
       "       False, False, False,  True,  True,  True, False, False, False,\n",
       "        True, False, False, False,  True,  True,  True, False,  True,\n",
       "        True,  True, False, False, False, False], dtype=bool)"
      ]
     },
     "execution_count": 15,
     "metadata": {},
     "output_type": "execute_result"
    }
   ],
   "source": [
    "# Testing which row of the first column is higher than 6.5\n",
    "(input[:,0] > 6.5)"
   ]
  },
  {
   "cell_type": "code",
   "execution_count": 16,
   "metadata": {
    "collapsed": false
   },
   "outputs": [
    {
     "data": {
      "text/plain": [
       "30"
      ]
     },
     "execution_count": 16,
     "metadata": {},
     "output_type": "execute_result"
    }
   ],
   "source": [
    "# Testing how many rows which of the first column is higher than 6.5\n",
    "np.sum(input[:,0] > 6.5)"
   ]
  },
  {
   "cell_type": "code",
   "execution_count": 17,
   "metadata": {
    "collapsed": false
   },
   "outputs": [
    {
     "data": {
      "text/plain": [
       "array(['7.0', '6.9', '6.6', '6.7', '6.6', '6.8', '6.7', '6.7', '7.1',\n",
       "       '7.6', '7.3', '6.7', '7.2', '6.8', '7.7', '7.7', '6.9', '7.7',\n",
       "       '6.7', '7.2', '7.2', '7.4', '7.9', '7.7', '6.9', '6.7', '6.9',\n",
       "       '6.8', '6.7', '6.7'], \n",
       "      dtype='|S15')"
      ]
     },
     "execution_count": 17,
     "metadata": {},
     "output_type": "execute_result"
    }
   ],
   "source": [
    "# Selecting the values which row of the first column is higher than 6.5\n",
    "data[input[:,0] > 6.5, 0]"
   ]
  },
  {
   "cell_type": "code",
   "execution_count": 18,
   "metadata": {
    "collapsed": false
   },
   "outputs": [
    {
     "data": {
      "text/plain": [
       "array(['6.9', '6.6', '6.7', '6.6', '6.8', '6.7', '6.7', '6.7', '6.8',\n",
       "       '6.9', '6.7', '6.9', '6.7', '6.9', '6.8', '6.7', '6.7'], \n",
       "      dtype='|S15')"
      ]
     },
     "execution_count": 18,
     "metadata": {},
     "output_type": "execute_result"
    }
   ],
   "source": [
    "# Selecting the values which row of the first column is higher than 6.5 and lesser than 7.0\n",
    "mask = (input[:,0] > 6.5) & (input[:,0] < 7.0)\n",
    "data[mask, 0]"
   ]
  },
  {
   "cell_type": "code",
   "execution_count": 19,
   "metadata": {
    "collapsed": false
   },
   "outputs": [
    {
     "data": {
      "text/plain": [
       "876.5"
      ]
     },
     "execution_count": 19,
     "metadata": {},
     "output_type": "execute_result"
    }
   ],
   "source": [
    "# The sum of the first column\n",
    "input[:,0].sum()"
   ]
  },
  {
   "cell_type": "code",
   "execution_count": 20,
   "metadata": {
    "collapsed": false
   },
   "outputs": [
    {
     "data": {
      "text/plain": [
       "876.5"
      ]
     },
     "execution_count": 20,
     "metadata": {},
     "output_type": "execute_result"
    }
   ],
   "source": [
    "# or\n",
    "np.sum(input[:,0])"
   ]
  },
  {
   "cell_type": "code",
   "execution_count": 21,
   "metadata": {
    "collapsed": false
   },
   "outputs": [
    {
     "data": {
      "text/plain": [
       "4.2999999999999998"
      ]
     },
     "execution_count": 21,
     "metadata": {},
     "output_type": "execute_result"
    }
   ],
   "source": [
    "# The minimum of the first column\n",
    "input[:,0].min()"
   ]
  },
  {
   "cell_type": "code",
   "execution_count": 22,
   "metadata": {
    "collapsed": false
   },
   "outputs": [
    {
     "data": {
      "text/plain": [
       "7.9000000000000004"
      ]
     },
     "execution_count": 22,
     "metadata": {},
     "output_type": "execute_result"
    }
   ],
   "source": [
    "# The maximum of the first column\n",
    "input[:,0].max()"
   ]
  },
  {
   "cell_type": "code",
   "execution_count": 23,
   "metadata": {
    "collapsed": false
   },
   "outputs": [
    {
     "data": {
      "text/plain": [
       "5.8433333333333337"
      ]
     },
     "execution_count": 23,
     "metadata": {},
     "output_type": "execute_result"
    }
   ],
   "source": [
    "# Computing the mean of the first column\n",
    "input[:,0].mean()"
   ]
  },
  {
   "cell_type": "code",
   "execution_count": 24,
   "metadata": {
    "collapsed": false
   },
   "outputs": [
    {
     "data": {
      "text/plain": [
       "19.299999999999997"
      ]
     },
     "execution_count": 24,
     "metadata": {},
     "output_type": "execute_result"
    }
   ],
   "source": [
    "# Computing the sum of the first 4 rows of the first column\n",
    "input[0:4,0].sum()"
   ]
  },
  {
   "cell_type": "code",
   "execution_count": 25,
   "metadata": {
    "collapsed": false
   },
   "outputs": [
    {
     "data": {
      "text/plain": [
       "array([ 25.5,  24.5,  23.5,  23. ,  25. ,  27. ,  23. ,  25. ,  22. ,\n",
       "        24.5,  27. ,  24. ,  24. ,  21.5,  29. ,  28.5,  27. ,  25.5,\n",
       "        28.5,  25.5,  27. ,  25.5,  23. ,  25.5,  24. ,  25. ,  25. ,\n",
       "        26. ,  26. ,  23.5,  24. ,  27. ,  26. ,  27.5,  24.5,  25. ,\n",
       "        27.5,  24.5,  22. ,  25.5,  25. ,  22.5,  22. ,  25. ,  25.5,\n",
       "        24. ,  25.5,  23. ,  26.5,  25. ,  35. ,  32. ,  34.5,  27.5,\n",
       "        32.5,  28.5,  31.5,  24.5,  33. ,  26. ,  25. ,  29.5,  30. ,\n",
       "        30.5,  28. ,  33.5,  28. ,  29. ,  31. ,  28. ,  29.5,  30.5,\n",
       "        31.5,  30.5,  32. ,  33. ,  34. ,  33.5,  30. ,  28.5,  27.5,\n",
       "        27.5,  29. ,  30. ,  27. ,  30. ,  33.5,  31.5,  28. ,  27.5,\n",
       "        27.5,  30.5,  29. ,  25. ,  28. ,  28.5,  28.5,  31. ,  25.5,\n",
       "        28.5,  31.5,  29. ,  35.5,  31.5,  32.5,  38. ,  24.5,  36.5,\n",
       "        33.5,  36. ,  32.5,  32. ,  34. ,  28.5,  29. ,  32. ,  32.5,\n",
       "        38.5,  38.5,  30. ,  34.5,  28. ,  38.5,  31.5,  33.5,  36. ,\n",
       "        31. ,  30.5,  32. ,  36. ,  37. ,  39.5,  32. ,  31.5,  30.5,\n",
       "        38.5,  31.5,  32. ,  30. ,  34.5,  33.5,  34.5,  29. ,  34. ,\n",
       "        33.5,  33.5,  31.5,  32.5,  31. ,  29.5])"
      ]
     },
     "execution_count": 25,
     "metadata": {},
     "output_type": "execute_result"
    }
   ],
   "source": [
    "# Multiply the first column by 5\n",
    "input[:,0] * 5"
   ]
  },
  {
   "cell_type": "code",
   "execution_count": 26,
   "metadata": {
    "collapsed": false
   },
   "outputs": [
    {
     "data": {
      "text/plain": [
       "array([-0.74333333, -0.94333333, -1.14333333, -1.24333333, -0.84333333,\n",
       "       -0.44333333, -1.24333333, -0.84333333, -1.44333333, -0.94333333,\n",
       "       -0.44333333, -1.04333333, -1.04333333, -1.54333333, -0.04333333,\n",
       "       -0.14333333, -0.44333333, -0.74333333, -0.14333333, -0.74333333,\n",
       "       -0.44333333, -0.74333333, -1.24333333, -0.74333333, -1.04333333,\n",
       "       -0.84333333, -0.84333333, -0.64333333, -0.64333333, -1.14333333,\n",
       "       -1.04333333, -0.44333333, -0.64333333, -0.34333333, -0.94333333,\n",
       "       -0.84333333, -0.34333333, -0.94333333, -1.44333333, -0.74333333,\n",
       "       -0.84333333, -1.34333333, -1.44333333, -0.84333333, -0.74333333,\n",
       "       -1.04333333, -0.74333333, -1.24333333, -0.54333333, -0.84333333,\n",
       "        1.15666667,  0.55666667,  1.05666667, -0.34333333,  0.65666667,\n",
       "       -0.14333333,  0.45666667, -0.94333333,  0.75666667, -0.64333333,\n",
       "       -0.84333333,  0.05666667,  0.15666667,  0.25666667, -0.24333333,\n",
       "        0.85666667, -0.24333333, -0.04333333,  0.35666667, -0.24333333,\n",
       "        0.05666667,  0.25666667,  0.45666667,  0.25666667,  0.55666667,\n",
       "        0.75666667,  0.95666667,  0.85666667,  0.15666667, -0.14333333,\n",
       "       -0.34333333, -0.34333333, -0.04333333,  0.15666667, -0.44333333,\n",
       "        0.15666667,  0.85666667,  0.45666667, -0.24333333, -0.34333333,\n",
       "       -0.34333333,  0.25666667, -0.04333333, -0.84333333, -0.24333333,\n",
       "       -0.14333333, -0.14333333,  0.35666667, -0.74333333, -0.14333333,\n",
       "        0.45666667, -0.04333333,  1.25666667,  0.45666667,  0.65666667,\n",
       "        1.75666667, -0.94333333,  1.45666667,  0.85666667,  1.35666667,\n",
       "        0.65666667,  0.55666667,  0.95666667, -0.14333333, -0.04333333,\n",
       "        0.55666667,  0.65666667,  1.85666667,  1.85666667,  0.15666667,\n",
       "        1.05666667, -0.24333333,  1.85666667,  0.45666667,  0.85666667,\n",
       "        1.35666667,  0.35666667,  0.25666667,  0.55666667,  1.35666667,\n",
       "        1.55666667,  2.05666667,  0.55666667,  0.45666667,  0.25666667,\n",
       "        1.85666667,  0.45666667,  0.55666667,  0.15666667,  1.05666667,\n",
       "        0.85666667,  1.05666667, -0.04333333,  0.95666667,  0.85666667,\n",
       "        0.85666667,  0.45666667,  0.65666667,  0.35666667,  0.05666667])"
      ]
     },
     "execution_count": 26,
     "metadata": {},
     "output_type": "execute_result"
    }
   ],
   "source": [
    "# Subtract the mean from the first column\n",
    "input[:,0] - input[:,0].mean()"
   ]
  },
  {
   "cell_type": "code",
   "execution_count": 27,
   "metadata": {
    "collapsed": false
   },
   "outputs": [
    {
     "data": {
      "text/plain": [
       "array([ 5.1,  4.9,  4.7,  4.6,  5. ,  5.4,  4.6,  5. ,  4.4,  4.9,  5.4,\n",
       "        4.8,  4.8,  4.3,  5.8,  5.7,  5.4,  5.1,  5.7,  5.1,  5.4,  5.1,\n",
       "        4.6,  5.1,  4.8,  5. ,  5. ,  5.2,  5.2,  4.7,  4.8,  5.4,  5.2,\n",
       "        5.5,  4.9,  5. ,  5.5,  4.9,  4.4,  5.1,  5. ,  4.5,  4.4,  5. ,\n",
       "        5.1,  4.8,  5.1,  4.6,  5.3,  5. ,  7. ,  6.4,  6.9,  5.5,  6.5,\n",
       "        5.7,  6.3,  4.9,  6.6,  5.2,  5. ,  5.9,  6. ,  6.1,  5.6,  6.7,\n",
       "        5.6,  5.8,  6.2,  5.6,  5.9,  6.1,  6.3,  6.1,  6.4,  6.6,  6.8,\n",
       "        6.7,  6. ,  5.7,  5.5,  5.5,  5.8,  6. ,  5.4,  6. ,  6.7,  6.3,\n",
       "        5.6,  5.5,  5.5,  6.1,  5.8,  5. ,  5.6,  5.7,  5.7,  6.2,  5.1,\n",
       "        5.7,  6.3,  5.8,  7.1,  6.3,  6.5,  7.6,  4.9,  7.3,  6.7,  7.2,\n",
       "        6.5,  6.4,  6.8,  5.7,  5.8,  6.4,  6.5,  7.7,  7.7,  6. ,  6.9,\n",
       "        5.6,  7.7,  6.3,  6.7,  7.2,  6.2,  6.1,  6.4,  7.2,  7.4,  7.9,\n",
       "        6.4,  6.3,  6.1,  7.7,  6.3,  6.4,  6. ,  6.9,  6.7,  6.9,  5.8,\n",
       "        6.8,  6.7,  6.7,  6.3,  6.5,  6.2,  5.9])"
      ]
     },
     "execution_count": 27,
     "metadata": {},
     "output_type": "execute_result"
    }
   ],
   "source": [
    "# Copying input to another variable\n",
    "temp = input[:,0]\n",
    "temp"
   ]
  },
  {
   "cell_type": "code",
   "execution_count": 28,
   "metadata": {
    "collapsed": false
   },
   "outputs": [
    {
     "data": {
      "text/plain": [
       "999.0"
      ]
     },
     "execution_count": 28,
     "metadata": {},
     "output_type": "execute_result"
    }
   ],
   "source": [
    "# Changing some value\n",
    "temp[0] = 999\n",
    "temp[0]"
   ]
  },
  {
   "cell_type": "code",
   "execution_count": 29,
   "metadata": {
    "collapsed": false
   },
   "outputs": [
    {
     "data": {
      "text/plain": [
       "999.0"
      ]
     },
     "execution_count": 29,
     "metadata": {},
     "output_type": "execute_result"
    }
   ],
   "source": [
    "# Also changes the input\n",
    "input[0,0]"
   ]
  },
  {
   "cell_type": "code",
   "execution_count": 30,
   "metadata": {
    "collapsed": false
   },
   "outputs": [
    {
     "data": {
      "text/plain": [
       "array([ 5.1,  4.9,  4.7,  4.6,  5. ,  5.4,  4.6,  5. ,  4.4,  4.9,  5.4,\n",
       "        4.8,  4.8,  4.3,  5.8,  5.7,  5.4,  5.1,  5.7,  5.1,  5.4,  5.1,\n",
       "        4.6,  5.1,  4.8,  5. ,  5. ,  5.2,  5.2,  4.7,  4.8,  5.4,  5.2,\n",
       "        5.5,  4.9,  5. ,  5.5,  4.9,  4.4,  5.1,  5. ,  4.5,  4.4,  5. ,\n",
       "        5.1,  4.8,  5.1,  4.6,  5.3,  5. ,  7. ,  6.4,  6.9,  5.5,  6.5,\n",
       "        5.7,  6.3,  4.9,  6.6,  5.2,  5. ,  5.9,  6. ,  6.1,  5.6,  6.7,\n",
       "        5.6,  5.8,  6.2,  5.6,  5.9,  6.1,  6.3,  6.1,  6.4,  6.6,  6.8,\n",
       "        6.7,  6. ,  5.7,  5.5,  5.5,  5.8,  6. ,  5.4,  6. ,  6.7,  6.3,\n",
       "        5.6,  5.5,  5.5,  6.1,  5.8,  5. ,  5.6,  5.7,  5.7,  6.2,  5.1,\n",
       "        5.7,  6.3,  5.8,  7.1,  6.3,  6.5,  7.6,  4.9,  7.3,  6.7,  7.2,\n",
       "        6.5,  6.4,  6.8,  5.7,  5.8,  6.4,  6.5,  7.7,  7.7,  6. ,  6.9,\n",
       "        5.6,  7.7,  6.3,  6.7,  7.2,  6.2,  6.1,  6.4,  7.2,  7.4,  7.9,\n",
       "        6.4,  6.3,  6.1,  7.7,  6.3,  6.4,  6. ,  6.9,  6.7,  6.9,  5.8,\n",
       "        6.8,  6.7,  6.7,  6.3,  6.5,  6.2,  5.9])"
      ]
     },
     "execution_count": 30,
     "metadata": {},
     "output_type": "execute_result"
    }
   ],
   "source": [
    "# Coming back the value\n",
    "input[0,0] = 5.1\n",
    "\n",
    "# And doing it right\n",
    "temp = input[:,0].copy()\n",
    "temp"
   ]
  },
  {
   "cell_type": "code",
   "execution_count": 31,
   "metadata": {
    "collapsed": false
   },
   "outputs": [
    {
     "data": {
      "text/plain": [
       "999.0"
      ]
     },
     "execution_count": 31,
     "metadata": {},
     "output_type": "execute_result"
    }
   ],
   "source": [
    "# Changing some value\n",
    "temp[0] = 999\n",
    "temp[0]"
   ]
  },
  {
   "cell_type": "code",
   "execution_count": 32,
   "metadata": {
    "collapsed": false
   },
   "outputs": [
    {
     "data": {
      "text/plain": [
       "5.0999999999999996"
      ]
     },
     "execution_count": 32,
     "metadata": {},
     "output_type": "execute_result"
    }
   ],
   "source": [
    "# Does not change the input\n",
    "input[0,0]"
   ]
  },
  {
   "cell_type": "code",
   "execution_count": 33,
   "metadata": {
    "collapsed": false
   },
   "outputs": [
    {
     "data": {
      "image/png": "[encoded data removed]",
      "text/plain": [
       "<matplotlib.figure.Figure at 0x7fca655d6050>"
      ]
     },
     "metadata": {},
     "output_type": "display_data"
    }
   ],
   "source": [
    "import seaborn as sns\n",
    "\n",
    "%matplotlib inline\n",
    "\n",
    "sns.jointplot(x=input[:,2], y=input[:,3], size=5)\n",
    "sns.plt.show()"
   ]
  }
 ],
 "metadata": {
  "kernelspec": {
   "display_name": "Python 2",
   "language": "python",
   "name": "python2"
  },
  "language_info": {
   "codemirror_mode": {
    "name": "ipython",
    "version": 2
   },
   "file_extension": ".py",
   "mimetype": "text/x-python",
   "name": "python",
   "nbconvert_exporter": "python",
   "pygments_lexer": "ipython2",
   "version": "2.7.12"
  }
 },
 "nbformat": 4,
 "nbformat_minor": 0
}
